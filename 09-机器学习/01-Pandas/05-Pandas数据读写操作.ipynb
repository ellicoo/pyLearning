{
 "cells": [
  {
   "cell_type": "code",
   "execution_count": 1,
   "metadata": {},
   "outputs": [],
   "source": [
    "import pandas as pd"
   ]
  },
  {
   "cell_type": "code",
   "execution_count": 18,
   "metadata": {},
   "outputs": [],
   "source": [
    "df1 = pd.DataFrame(\n",
    "    [\n",
    "        ['1960-5-7', '刘海柱', '职业法师'],\n",
    "        ['1978-9-1', '赵金龙', '大力哥'],\n",
    "        ['1984-12-27', '周立齐', '窃格瓦拉'],\n",
    "        ['1969-1-24', '于谦', '相声皇后']\n",
    "    ], \n",
    "    columns=['birthday', 'name', 'AKA']\n",
    ")"
   ]
  },
  {
   "cell_type": "code",
   "execution_count": 3,
   "metadata": {},
   "outputs": [
    {
     "data": {
      "text/html": [
       "<div>\n",
       "<style scoped>\n",
       "    .dataframe tbody tr th:only-of-type {\n",
       "        vertical-align: middle;\n",
       "    }\n",
       "\n",
       "    .dataframe tbody tr th {\n",
       "        vertical-align: top;\n",
       "    }\n",
       "\n",
       "    .dataframe thead th {\n",
       "        text-align: right;\n",
       "    }\n",
       "</style>\n",
       "<table border=\"1\" class=\"dataframe\">\n",
       "  <thead>\n",
       "    <tr style=\"text-align: right;\">\n",
       "      <th></th>\n",
       "      <th>birthday</th>\n",
       "      <th>name</th>\n",
       "      <th>AKA</th>\n",
       "    </tr>\n",
       "  </thead>\n",
       "  <tbody>\n",
       "    <tr>\n",
       "      <th>0</th>\n",
       "      <td>1960-5-7</td>\n",
       "      <td>刘海柱</td>\n",
       "      <td>职业法师</td>\n",
       "    </tr>\n",
       "    <tr>\n",
       "      <th>1</th>\n",
       "      <td>1978-9-1</td>\n",
       "      <td>赵金龙</td>\n",
       "      <td>大力哥</td>\n",
       "    </tr>\n",
       "    <tr>\n",
       "      <th>2</th>\n",
       "      <td>1984-12-27</td>\n",
       "      <td>周立齐</td>\n",
       "      <td>窃格瓦拉</td>\n",
       "    </tr>\n",
       "    <tr>\n",
       "      <th>3</th>\n",
       "      <td>1969-1-24</td>\n",
       "      <td>于谦</td>\n",
       "      <td>相声皇后</td>\n",
       "    </tr>\n",
       "  </tbody>\n",
       "</table>\n",
       "</div>"
      ],
      "text/plain": [
       "     birthday name   AKA\n",
       "0    1960-5-7  刘海柱  职业法师\n",
       "1    1978-9-1  赵金龙   大力哥\n",
       "2  1984-12-27  周立齐  窃格瓦拉\n",
       "3   1969-1-24   于谦  相声皇后"
      ]
     },
     "execution_count": 3,
     "metadata": {},
     "output_type": "execute_result"
    }
   ],
   "source": [
    "df1"
   ]
  },
  {
   "cell_type": "code",
   "execution_count": 4,
   "metadata": {},
   "outputs": [],
   "source": [
    "df1.to_csv('./to_csv案例.csv')"
   ]
  },
  {
   "cell_type": "code",
   "execution_count": 5,
   "metadata": {},
   "outputs": [
    {
     "data": {
      "text/plain": [
       "'1.1.3'"
      ]
     },
     "execution_count": 5,
     "metadata": {},
     "output_type": "execute_result"
    }
   ],
   "source": [
    "pd.__version__"
   ]
  },
  {
   "cell_type": "code",
   "execution_count": 9,
   "metadata": {},
   "outputs": [
    {
     "data": {
      "text/html": [
       "<div>\n",
       "<style scoped>\n",
       "    .dataframe tbody tr th:only-of-type {\n",
       "        vertical-align: middle;\n",
       "    }\n",
       "\n",
       "    .dataframe tbody tr th {\n",
       "        vertical-align: top;\n",
       "    }\n",
       "\n",
       "    .dataframe thead th {\n",
       "        text-align: right;\n",
       "    }\n",
       "</style>\n",
       "<table border=\"1\" class=\"dataframe\">\n",
       "  <thead>\n",
       "    <tr style=\"text-align: right;\">\n",
       "      <th></th>\n",
       "      <th>Unnamed: 0</th>\n",
       "      <th>birthday</th>\n",
       "      <th>name</th>\n",
       "      <th>AKA</th>\n",
       "    </tr>\n",
       "  </thead>\n",
       "  <tbody>\n",
       "    <tr>\n",
       "      <th>0</th>\n",
       "      <td>0</td>\n",
       "      <td>1960-05-07</td>\n",
       "      <td>刘海柱</td>\n",
       "      <td>职业法师</td>\n",
       "    </tr>\n",
       "    <tr>\n",
       "      <th>1</th>\n",
       "      <td>1</td>\n",
       "      <td>1978-09-01</td>\n",
       "      <td>赵金龙</td>\n",
       "      <td>大力哥</td>\n",
       "    </tr>\n",
       "    <tr>\n",
       "      <th>2</th>\n",
       "      <td>2</td>\n",
       "      <td>1984-12-27</td>\n",
       "      <td>周立齐</td>\n",
       "      <td>窃格瓦拉</td>\n",
       "    </tr>\n",
       "    <tr>\n",
       "      <th>3</th>\n",
       "      <td>3</td>\n",
       "      <td>1969-01-24</td>\n",
       "      <td>于谦</td>\n",
       "      <td>相声皇后</td>\n",
       "    </tr>\n",
       "  </tbody>\n",
       "</table>\n",
       "</div>"
      ],
      "text/plain": [
       "   Unnamed: 0   birthday name   AKA\n",
       "0           0 1960-05-07  刘海柱  职业法师\n",
       "1           1 1978-09-01  赵金龙   大力哥\n",
       "2           2 1984-12-27  周立齐  窃格瓦拉\n",
       "3           3 1969-01-24   于谦  相声皇后"
      ]
     },
     "execution_count": 9,
     "metadata": {},
     "output_type": "execute_result"
    }
   ],
   "source": [
    "# df2 = pd.read_csv('./to_csv案例.csv', encoding='utf-8', parse_dates=[1])\n",
    "df2 = pd.read_csv('./to_csv案例.csv', encoding='utf-8', parse_dates=['birthday'])\n",
    "df2"
   ]
  },
  {
   "cell_type": "code",
   "execution_count": 10,
   "metadata": {},
   "outputs": [
    {
     "name": "stdout",
     "output_type": "stream",
     "text": [
      "<class 'pandas.core.frame.DataFrame'>\n",
      "RangeIndex: 4 entries, 0 to 3\n",
      "Data columns (total 4 columns):\n",
      " #   Column      Non-Null Count  Dtype         \n",
      "---  ------      --------------  -----         \n",
      " 0   Unnamed: 0  4 non-null      int64         \n",
      " 1   birthday    4 non-null      datetime64[ns]\n",
      " 2   name        4 non-null      object        \n",
      " 3   AKA         4 non-null      object        \n",
      "dtypes: datetime64[ns](1), int64(1), object(2)\n",
      "memory usage: 256.0+ bytes\n"
     ]
    }
   ],
   "source": [
    "df2.info()"
   ]
  },
  {
   "cell_type": "code",
   "execution_count": 11,
   "metadata": {},
   "outputs": [
    {
     "data": {
      "text/html": [
       "<div>\n",
       "<style scoped>\n",
       "    .dataframe tbody tr th:only-of-type {\n",
       "        vertical-align: middle;\n",
       "    }\n",
       "\n",
       "    .dataframe tbody tr th {\n",
       "        vertical-align: top;\n",
       "    }\n",
       "\n",
       "    .dataframe thead th {\n",
       "        text-align: right;\n",
       "    }\n",
       "</style>\n",
       "<table border=\"1\" class=\"dataframe\">\n",
       "  <thead>\n",
       "    <tr style=\"text-align: right;\">\n",
       "      <th></th>\n",
       "      <th>Unnamed: 0</th>\n",
       "      <th>name</th>\n",
       "      <th>AKA</th>\n",
       "    </tr>\n",
       "    <tr>\n",
       "      <th>birthday</th>\n",
       "      <th></th>\n",
       "      <th></th>\n",
       "      <th></th>\n",
       "    </tr>\n",
       "  </thead>\n",
       "  <tbody>\n",
       "    <tr>\n",
       "      <th>1960-05-07</th>\n",
       "      <td>0</td>\n",
       "      <td>刘海柱</td>\n",
       "      <td>职业法师</td>\n",
       "    </tr>\n",
       "    <tr>\n",
       "      <th>1978-09-01</th>\n",
       "      <td>1</td>\n",
       "      <td>赵金龙</td>\n",
       "      <td>大力哥</td>\n",
       "    </tr>\n",
       "    <tr>\n",
       "      <th>1984-12-27</th>\n",
       "      <td>2</td>\n",
       "      <td>周立齐</td>\n",
       "      <td>窃格瓦拉</td>\n",
       "    </tr>\n",
       "    <tr>\n",
       "      <th>1969-01-24</th>\n",
       "      <td>3</td>\n",
       "      <td>于谦</td>\n",
       "      <td>相声皇后</td>\n",
       "    </tr>\n",
       "  </tbody>\n",
       "</table>\n",
       "</div>"
      ],
      "text/plain": [
       "            Unnamed: 0 name   AKA\n",
       "birthday                         \n",
       "1960-05-07           0  刘海柱  职业法师\n",
       "1978-09-01           1  赵金龙   大力哥\n",
       "1984-12-27           2  周立齐  窃格瓦拉\n",
       "1969-01-24           3   于谦  相声皇后"
      ]
     },
     "execution_count": 11,
     "metadata": {},
     "output_type": "execute_result"
    }
   ],
   "source": [
    "# 读取文件指定索引类并实现自动类型转换\n",
    "df3 = pd.read_csv('./to_csv案例.csv', encoding='utf-8', index_col=[1], parse_dates=True)\n",
    "df3"
   ]
  },
  {
   "cell_type": "code",
   "execution_count": 12,
   "metadata": {},
   "outputs": [
    {
     "name": "stdout",
     "output_type": "stream",
     "text": [
      "<class 'pandas.core.frame.DataFrame'>\n",
      "DatetimeIndex: 4 entries, 1960-05-07 to 1969-01-24\n",
      "Data columns (total 3 columns):\n",
      " #   Column      Non-Null Count  Dtype \n",
      "---  ------      --------------  ----- \n",
      " 0   Unnamed: 0  4 non-null      int64 \n",
      " 1   name        4 non-null      object\n",
      " 2   AKA         4 non-null      object\n",
      "dtypes: int64(1), object(2)\n",
      "memory usage: 288.0+ bytes\n"
     ]
    }
   ],
   "source": [
    "df3.info()"
   ]
  },
  {
   "cell_type": "code",
   "execution_count": 15,
   "metadata": {},
   "outputs": [],
   "source": [
    "df4 = pd.read_csv('./to_csv案例.csv', encoding='utf-8', sep=',', index_col=[0])"
   ]
  },
  {
   "cell_type": "code",
   "execution_count": 16,
   "metadata": {},
   "outputs": [
    {
     "data": {
      "text/html": [
       "<div>\n",
       "<style scoped>\n",
       "    .dataframe tbody tr th:only-of-type {\n",
       "        vertical-align: middle;\n",
       "    }\n",
       "\n",
       "    .dataframe tbody tr th {\n",
       "        vertical-align: top;\n",
       "    }\n",
       "\n",
       "    .dataframe thead th {\n",
       "        text-align: right;\n",
       "    }\n",
       "</style>\n",
       "<table border=\"1\" class=\"dataframe\">\n",
       "  <thead>\n",
       "    <tr style=\"text-align: right;\">\n",
       "      <th></th>\n",
       "      <th>birthday</th>\n",
       "      <th>name</th>\n",
       "      <th>AKA</th>\n",
       "    </tr>\n",
       "  </thead>\n",
       "  <tbody>\n",
       "    <tr>\n",
       "      <th>0</th>\n",
       "      <td>1960-5-7</td>\n",
       "      <td>刘海柱</td>\n",
       "      <td>职业法师</td>\n",
       "    </tr>\n",
       "    <tr>\n",
       "      <th>1</th>\n",
       "      <td>1978-9-1</td>\n",
       "      <td>赵金龙</td>\n",
       "      <td>大力哥</td>\n",
       "    </tr>\n",
       "    <tr>\n",
       "      <th>2</th>\n",
       "      <td>1984-12-27</td>\n",
       "      <td>周立齐</td>\n",
       "      <td>窃格瓦拉</td>\n",
       "    </tr>\n",
       "    <tr>\n",
       "      <th>3</th>\n",
       "      <td>1969-1-24</td>\n",
       "      <td>于谦</td>\n",
       "      <td>相声皇后</td>\n",
       "    </tr>\n",
       "  </tbody>\n",
       "</table>\n",
       "</div>"
      ],
      "text/plain": [
       "     birthday name   AKA\n",
       "0    1960-5-7  刘海柱  职业法师\n",
       "1    1978-9-1  赵金龙   大力哥\n",
       "2  1984-12-27  周立齐  窃格瓦拉\n",
       "3   1969-1-24   于谦  相声皇后"
      ]
     },
     "execution_count": 16,
     "metadata": {},
     "output_type": "execute_result"
    }
   ],
   "source": [
    "df4"
   ]
  },
  {
   "cell_type": "code",
   "execution_count": 20,
   "metadata": {},
   "outputs": [],
   "source": [
    "df4.to_csv('./to_csv编码案例.csv', encoding='utf-8-sig', index=False)"
   ]
  }
 ],
 "metadata": {
  "kernelspec": {
   "display_name": "Python 3",
   "language": "python",
   "name": "python3"
  },
  "language_info": {
   "codemirror_mode": {
    "name": "ipython",
    "version": 3
   },
   "file_extension": ".py",
   "mimetype": "text/x-python",
   "name": "python",
   "nbconvert_exporter": "python",
   "pygments_lexer": "ipython3",
   "version": "3.8.5"
  },
  "toc": {
   "base_numbering": 1,
   "nav_menu": {},
   "number_sections": true,
   "sideBar": true,
   "skip_h1_title": false,
   "title_cell": "Table of Contents",
   "title_sidebar": "Contents",
   "toc_cell": false,
   "toc_position": {},
   "toc_section_display": true,
   "toc_window_display": false
  }
 },
 "nbformat": 4,
 "nbformat_minor": 4
}

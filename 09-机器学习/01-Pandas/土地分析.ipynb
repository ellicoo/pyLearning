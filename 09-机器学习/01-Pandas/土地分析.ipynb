{
 "cells": [
  {
   "cell_type": "code",
   "execution_count": null,
   "outputs": [],
   "source": [
    "import pandas as pd\n",
    "import numpy as np\n",
    "from IPython.display import display\n",
    "from scipy.stats import entropy\n",
    "\n",
    "# 读取CSV数据\n",
    "data = pd.read_csv('/Users/otis/PycharmProjects/Python_Example/deng_code/data/data_detail.csv')\n",
    "\n",
    "# 提取感兴趣的指标数据\n",
    "interested_columns = ['地区', '时间', '建设用地面积增速（%）', '地均产值(万元/KM2）', '地均财政支出(万元/KM2）', '地均固定资产投资(万元/KM2）', '土地总产值']\n",
    "interested_data = data[interested_columns]\n",
    "\n",
    "# 根据地区和时间分组，计算平均值\n",
    "grouped_data = interested_data.groupby(['地区', '时间']).mean().reset_index()\n",
    "\n",
    "# 数据标准化\n",
    "numeric_data = grouped_data.drop(columns=['地区', '时间', '土地总产值'])  # 只保留数值列\n",
    "normalized_data = (numeric_data - numeric_data.min()) / (numeric_data.max() - numeric_data.min())\n",
    "\n",
    "# 计算熵值\n",
    "entropy_values = normalized_data.apply(entropy, axis=0)\n",
    "\n",
    "# 计算权重\n",
    "weights = 1 - entropy_values / np.log2(len(numeric_data.columns))\n",
    "\n",
    "# 将权重添加到数据中\n",
    "for i, col in enumerate(numeric_data.columns):\n",
    "    grouped_data[col + '权重'] = weights[i]\n",
    "\n",
    "# 计算综合评价结果\n",
    "weighted_data = normalized_data * weights.values\n",
    "grouped_data['综合评价结果'] = weighted_data.sum(axis=1)\n",
    "\n",
    "# 输出结果\n",
    "display(data)\n"
   ],
   "metadata": {
    "collapsed": false,
    "pycharm": {
     "name": "#%%\n"
    }
   }
  }
 ],
 "metadata": {
  "kernelspec": {
   "display_name": "Python 3",
   "language": "python",
   "name": "python3"
  },
  "language_info": {
   "codemirror_mode": {
    "name": "ipython",
    "version": 2
   },
   "file_extension": ".py",
   "mimetype": "text/x-python",
   "name": "python",
   "nbconvert_exporter": "python",
   "pygments_lexer": "ipython2",
   "version": "2.7.6"
  }
 },
 "nbformat": 4,
 "nbformat_minor": 0
}